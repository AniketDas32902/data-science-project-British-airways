{
 "cells": [
  {
   "cell_type": "markdown",
   "id": "6f18625b",
   "metadata": {},
   "source": [
    "    DATA COLLECTION"
   ]
  },
  {
   "cell_type": "code",
   "execution_count": 12,
   "id": "d7b01fe5",
   "metadata": {},
   "outputs": [
    {
     "name": "stdout",
     "output_type": "stream",
     "text": [
      "Requirement already satisfied: lxml in ./env/lib/python3.10/site-packages (4.9.1)\r\n"
     ]
    }
   ],
   "source": [
    "import pandas as pd\n",
    "import numpy as np\n",
    "from bs4 import BeautifulSoup\n",
    "import requests\n",
    "!pip install lxml"
   ]
  },
  {
   "cell_type": "code",
   "execution_count": 13,
   "id": "7cc08d9a",
   "metadata": {},
   "outputs": [],
   "source": [
    "reviews = []\n",
    "stars = []\n",
    "date = []\n",
    "country = []"
   ]
  },
  {
   "cell_type": "code",
   "execution_count": 14,
   "id": "4c64ffb3",
   "metadata": {},
   "outputs": [
    {
     "name": "stdout",
     "output_type": "stream",
     "text": [
      "Error on page 31\n",
      "Error on page 31\n",
      "Error on page 33\n",
      "Error on page 34\n"
     ]
    }
   ],
   "source": [
    "for i in range(1, 36):\n",
    "    page = requests.get(f\"https://www.airlinequality.com/airline-reviews/british-airways/page/{i}/?sortby=post_date%3ADesc&pagesize=100\")\n",
    "    \n",
    "    \n",
    "    soup = BeautifulSoup(page.content, \"html\")\n",
    "    \n",
    "    for item in soup.find_all(\"div\", class_=\"text_content\"):\n",
    "        reviews.append(item.text)\n",
    "    \n",
    "    for item in soup.find_all(\"div\", class_ = \"rating-10\"):\n",
    "        try:\n",
    "            stars.append(item.span.text)\n",
    "        except:\n",
    "            print(f\"Error on page {i}\")\n",
    "            stars.append(\"None\")\n",
    "            \n",
    "    #date\n",
    "    for item in soup.find_all(\"time\"):\n",
    "        date.append(item.text)\n",
    "        \n",
    "    #country\n",
    "    for item in soup.find_all(\"h3\"):\n",
    "        country.append(item.span.next_sibling.text.strip(\" ()\"))"
   ]
  },
  {
   "cell_type": "code",
   "execution_count": 15,
   "id": "e9ff634a",
   "metadata": {},
   "outputs": [
    {
     "data": {
      "text/plain": [
       "3471"
      ]
     },
     "execution_count": 15,
     "metadata": {},
     "output_type": "execute_result"
    }
   ],
   "source": [
    "len(reviews)"
   ]
  },
  {
   "cell_type": "code",
   "execution_count": 16,
   "id": "ecdcf8c4",
   "metadata": {},
   "outputs": [
    {
     "data": {
      "text/plain": [
       "3471"
      ]
     },
     "execution_count": 16,
     "metadata": {},
     "output_type": "execute_result"
    }
   ],
   "source": [
    "len(country)\n"
   ]
  },
  {
   "cell_type": "code",
   "execution_count": 22,
   "id": "c3573d0c",
   "metadata": {},
   "outputs": [],
   "source": [
    "stars = stars[:3471]"
   ]
  },
  {
   "cell_type": "code",
   "execution_count": 24,
   "id": "90228b1f",
   "metadata": {},
   "outputs": [],
   "source": [
    "df = pd.DataFrame({\"reviews\":reviews, \"stars\":stars, \"date\":date, \"country\": country })"
   ]
  },
  {
   "cell_type": "code",
   "execution_count": 26,
   "id": "ce903f84",
   "metadata": {},
   "outputs": [
    {
     "data": {
      "text/plain": [
       "<bound method NDFrame.head of                                                 reviews  \\\n",
       "0     ✅ Trip Verified | BA 242 on the 6/2/23. Boardi...   \n",
       "1     ✅ Trip Verified |  Not only my first flight in...   \n",
       "2     ✅ Trip Verified |  My husband and myself were ...   \n",
       "3     ✅ Trip Verified | Organised boarding process. ...   \n",
       "4     ✅ Trip Verified |  Outward journey BA245 Londo...   \n",
       "...                                                 ...   \n",
       "3466  LHR-JFK-LAX-LHR. Check in was ok apart from be...   \n",
       "3467  LHR to HAM. Purser addresses all club passenge...   \n",
       "3468  My son who had worked for British Airways urge...   \n",
       "3469  London City-New York JFK via Shannon on A318 b...   \n",
       "3470  SIN-LHR BA12 B747-436 First Class. Old aircraf...   \n",
       "\n",
       "                              stars               date         country  \n",
       "0     \\n\\t\\t\\t\\t\\t\\t\\t\\t\\t\\t\\t\\t\\t5  7th February 2023  United Kingdom  \n",
       "1                                 9  6th February 2023           Spain  \n",
       "2                                10  4th February 2023  United Kingdom  \n",
       "3                                10  31st January 2023  United Kingdom  \n",
       "4                                10  31st January 2023  United Kingdom  \n",
       "...                             ...                ...             ...  \n",
       "3466                              7   29th August 2012  United Kingdom  \n",
       "3467                              1   28th August 2012  United Kingdom  \n",
       "3468                              8  12th October 2011  United Kingdom  \n",
       "3469                              9  11th October 2011   United States  \n",
       "3470                              8   9th October 2011  United Kingdom  \n",
       "\n",
       "[3471 rows x 4 columns]>"
      ]
     },
     "execution_count": 26,
     "metadata": {},
     "output_type": "execute_result"
    }
   ],
   "source": [
    "df.head"
   ]
  },
  {
   "cell_type": "code",
   "execution_count": 27,
   "id": "e69ea59b",
   "metadata": {},
   "outputs": [],
   "source": [
    "import os\n",
    "\n",
    "cwd = os.getcwd()\n",
    "df.to_csv(cwd+ \"/BA_reviews.csv\")"
   ]
  },
  {
   "cell_type": "code",
   "execution_count": null,
   "id": "4bdd9956",
   "metadata": {},
   "outputs": [],
   "source": []
  }
 ],
 "metadata": {
  "kernelspec": {
   "display_name": "Python 3 (ipykernel)",
   "language": "python",
   "name": "python3"
  },
  "language_info": {
   "codemirror_mode": {
    "name": "ipython",
    "version": 3
   },
   "file_extension": ".py",
   "mimetype": "text/x-python",
   "name": "python",
   "nbconvert_exporter": "python",
   "pygments_lexer": "ipython3",
   "version": "3.10.9"
  }
 },
 "nbformat": 4,
 "nbformat_minor": 5
}
